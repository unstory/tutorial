{
 "cells": [
  {
   "cell_type": "markdown",
   "metadata": {
    "collapsed": true
   },
   "source": [
    "###  quick start for pandas"
   ]
  },
  {
   "cell_type": "markdown",
   "metadata": {},
   "source": [
    "#### 1. preview"
   ]
  },
  {
   "cell_type": "markdown",
   "metadata": {},
   "source": [
    "1. python基础语法\n",
    "2. 面向对象思想"
   ]
  },
  {
   "cell_type": "markdown",
   "metadata": {},
   "source": [
    "#### 2. pandas数据结构"
   ]
  },
  {
   "cell_type": "markdown",
   "metadata": {},
   "source": [
    "#### 2.1 Series"
   ]
  },
  {
   "cell_type": "markdown",
   "metadata": {},
   "source": [
    "Series(序列)与list相似，功能更加强大。series是学习dataframe的基础，一个dataframe是由多个series构成的数据结构。"
   ]
  },
  {
   "cell_type": "markdown",
   "metadata": {},
   "source": [
    "##### series的常用属性"
   ]
  },
  {
   "cell_type": "code",
   "execution_count": 9,
   "metadata": {},
   "outputs": [
    {
     "name": "stdout",
     "output_type": "stream",
     "text": [
      "1    1\n",
      "2    2\n",
      "3    c\n",
      "4    5\n",
      "5    1\n",
      "dtype: object\n",
      "RangeIndex(start=1, stop=6, step=1)\n",
      "[1 2 'c' 5 1]\n",
      "object\n"
     ]
    }
   ],
   "source": [
    "import pandas as pd\n",
    "# 构建一个series\n",
    "s = pd.Series([1,2,\"c\",5,1],index=range(1,6))  # series在不指定index参数的时候会自动创建索引\n",
    "print(s)            # 打印series\n",
    "print(s.index)      # 打印series的索引\n",
    "print(s.values)     # 打印series的值\n",
    "print(s.dtype)      # object，series的值是object类型(即python的str类型),类比数据库的varchar或者text类型\n",
    "# index,values,dtype都是索引的属性"
   ]
  },
  {
   "cell_type": "code",
   "execution_count": 5,
   "metadata": {},
   "outputs": [
    {
     "name": "stdout",
     "output_type": "stream",
     "text": [
      "a    1\n",
      "b    3\n",
      "c    5\n",
      "d    7\n",
      "dtype: int64\n"
     ]
    }
   ],
   "source": [
    "# python的字典的key唯一，使用dict创建series时，默认会把key值作为series的index\n",
    "d = {\"a\":1, \"b\":3, \"c\":5, \"d\":7}\n",
    "s1 = pd.Series(d)\n",
    "print(s1)      # 从打印的结果可以看出s1的索引就是字典的key值"
   ]
  },
  {
   "cell_type": "markdown",
   "metadata": {},
   "source": [
    "##### series的常用方法"
   ]
  },
  {
   "cell_type": "markdown",
   "metadata": {},
   "source": [
    "<b>str子类方法</b>"
   ]
  },
  {
   "cell_type": "code",
   "execution_count": 19,
   "metadata": {},
   "outputs": [
    {
     "name": "stdout",
     "output_type": "stream",
     "text": [
      "True\n",
      "AABBCC\n",
      "True\n"
     ]
    }
   ],
   "source": [
    "# str是python的基本数据类型，str类型的变量(实例)都有一系列的方法，比如：\n",
    "# 从面向对象的角度来看，s是str类的一个实例\n",
    "s = \"AaBbCc\"\n",
    "print(s.endswith(\"c\"))    # True, 字符串以c结尾\n",
    "print(s.upper())        # AABBCC,将小写字母变成大写字母\n",
    "print(s.startswith(\"A\"))      # True，以A开头"
   ]
  },
  {
   "cell_type": "code",
   "execution_count": 20,
   "metadata": {},
   "outputs": [
    {
     "name": "stdout",
     "output_type": "stream",
     "text": [
      "0     True\n",
      "1    False\n",
      "2    False\n",
      "3    False\n",
      "4    False\n",
      "5    False\n",
      "6      NaN\n",
      "dtype: object\n",
      "0     AAA\n",
      "1      BB\n",
      "2      CC\n",
      "3      DD\n",
      "4    EAFV\n",
      "5       1\n",
      "6     NaN\n",
      "dtype: object\n",
      "0     True\n",
      "1    False\n",
      "2    False\n",
      "3    False\n",
      "4    False\n",
      "5    False\n",
      "6      NaN\n",
      "dtype: object\n"
     ]
    }
   ],
   "source": [
    "# 对于Series来说，str是series里面的一个子类\n",
    "ser = pd.Series([\"aaa\", \"bb\", \"Cc\", \"DD\", \"eafV\", \"1\", 1])\n",
    "print(ser.str.endswith(\"a\"))\n",
    "print(ser.str.upper())\n",
    "print(ser.str.startswith(\"a\"))"
   ]
  },
  {
   "cell_type": "markdown",
   "metadata": {},
   "source": [
    "<b>常用方法</b>"
   ]
  },
  {
   "cell_type": "code",
   "execution_count": 34,
   "metadata": {},
   "outputs": [
    {
     "name": "stdout",
     "output_type": "stream",
     "text": [
      "5     1\n",
      "6     1\n",
      "4     7\n",
      "3    23\n",
      "1    32\n",
      "0    54\n",
      "2    56\n",
      "dtype: int64\n",
      "[54 32 56 23  7  1]\n"
     ]
    }
   ],
   "source": [
    "ser1 = pd.Series([54,32,56,23,7,1, 1])\n",
    "# 升序排序\n",
    "print(ser1.sort_values(ascending=True))\n",
    "# 计算均值，标准差最大值，最小值，中位数, pd.min(),pd.std(), pd.median()...\n",
    "# 去重\n",
    "print(pd.unique(ser1))\n",
    "# 更多函数参考：http://pandas.pydata.org/pandas-docs/stable/api.html"
   ]
  },
  {
   "cell_type": "markdown",
   "metadata": {},
   "source": [
    "<b>自定义函数</b>"
   ]
  },
  {
   "cell_type": "code",
   "execution_count": 29,
   "metadata": {},
   "outputs": [
    {
     "name": "stdout",
     "output_type": "stream",
     "text": [
      "ser3: 0    10034\n",
      "1    10234\n",
      "2    10004\n",
      "3    10023\n",
      "4    10001\n",
      "dtype: int64\n",
      "0     True\n",
      "1     True\n",
      "2    False\n",
      "3     True\n",
      "4    False\n",
      "dtype: bool\n"
     ]
    }
   ],
   "source": [
    "ser2 = pd.Series([34,234,4,23,1])\n",
    "ser3 = ser2.apply(lambda x: x+10000)  # lambda匿名函数，x代表ser2中的每一个值，这里将ser2的每一个元素都加上10000\n",
    "print(\"ser3:\", ser3)\n",
    "def test(x):\n",
    "    if x > 5:\n",
    "        return True\n",
    "    return False\n",
    "ser4 = ser2.apply(test)    # apply：应用，即将ser2中的每一个元素都应用到test函数\n",
    "print(ser4)"
   ]
  },
  {
   "cell_type": "markdown",
   "metadata": {},
   "source": [
    "#### 2.2 DataFrame"
   ]
  },
  {
   "cell_type": "markdown",
   "metadata": {},
   "source": [
    "dataFrame是类似excel表格的一种数据结构，可以说用pandas包就一定会用dataframe"
   ]
  },
  {
   "cell_type": "markdown",
   "metadata": {},
   "source": [
    "<b>创建DataFrame</b>"
   ]
  },
  {
   "cell_type": "code",
   "execution_count": 5,
   "metadata": {},
   "outputs": [
    {
     "name": "stdout",
     "output_type": "stream",
     "text": [
      "df:\n",
      "    a   b  c\n",
      "0  1   2  a\n",
      "1  3   4  b\n",
      "2  5   6  c\n",
      "3  7   8  d\n",
      "4  9  10  e\n"
     ]
    }
   ],
   "source": [
    "import pandas as pd\n",
    "# 创建一个dataframe，更常见的作法是通过读csv或者excel文件，读进python的数据就是一个dataframe\n",
    "df = pd.DataFrame({\"a\":[1,3,5,7,9], \"b\":[2,4,6,8,10], \"c\":[\"a\", \"b\", \"c\", \"d\", \"e\"]},columns=[\"a\", \"b\", \"c\"])  # columns参数指定列的顺序(因为字典的key是无序的)\n",
    "print(\"df:\\n\", df)"
   ]
  },
  {
   "cell_type": "markdown",
   "metadata": {},
   "source": [
    "<b>DataFrame常用属性</b>"
   ]
  },
  {
   "cell_type": "code",
   "execution_count": 8,
   "metadata": {},
   "outputs": [
    {
     "name": "stdout",
     "output_type": "stream",
     "text": [
      "RangeIndex(start=0, stop=5, step=1)\n",
      "[[1 2 'a']\n",
      " [3 4 'b']\n",
      " [5 6 'c']\n",
      " [7 8 'd']\n",
      " [9 10 'e']]\n",
      "a     int64\n",
      "b     int64\n",
      "c    object\n",
      "dtype: object\n",
      "(5, 3)\n",
      "Index(['a', 'b', 'c'], dtype='object')\n"
     ]
    }
   ],
   "source": [
    "print(df.index)   # df的索引\n",
    "print(df.values)  # 二维列表\n",
    "print(df.dtypes)  # 每一列的数据类型，a列是int64（64位的整数），b列是int64，c列是object类型(类似数据库的varchar或者text)\n",
    "print(df.shape)  # (5, 3),即df是一个5行3列的二维表\n",
    "print(df.columns)  # df的列名"
   ]
  },
  {
   "cell_type": "markdown",
   "metadata": {},
   "source": [
    "<b>索引、选择</b>"
   ]
  },
  {
   "cell_type": "code",
   "execution_count": 39,
   "metadata": {},
   "outputs": [
    {
     "name": "stdout",
     "output_type": "stream",
     "text": [
      "取a列:df['a']\n",
      " 0    1\n",
      "1    2\n",
      "2    3\n",
      "3    4\n",
      "4    5\n",
      "Name: a, dtype: int64\n",
      "-----------------------------------------------------------------****------------------------------------------------------------\n",
      "取前3行：df[0:3]\n",
      "    a  b  c\n",
      "0  1  2  a\n",
      "1  2  4  b\n",
      "2  3  6  c\n",
      "-----------------------------------------------------------------****------------------------------------------------------------\n",
      "取索引为1、2，  a,b列：df.loc[1:2, [\"a\", \"b\"]]\n",
      "    a  b\n",
      "1  2  4\n",
      "2  3  6\n",
      "-----------------------------------------------------------------****------------------------------------------------------------\n",
      "取a列大于3的值：df[df.a>3]\n",
      "    a   b  c\n",
      "3  4   8  d\n",
      "4  5  10  e\n",
      "-----------------------------------------------------------------****------------------------------------------------------------\n",
      "取行索引为1， 列索引为1(第二列)的值：df.iloc[1, 1]\n",
      " 4\n",
      "-----------------------------------------------------------------****------------------------------------------------------------\n",
      "将行索引为1， 列索引为1(第二列)的值设置为111：df.iat[1,1] = 111\n",
      "    a    b  c\n",
      "0  1    2  a\n",
      "1  2  111  b\n",
      "2  3    6  c\n",
      "3  4    8  d\n",
      "4  5   10  e\n",
      "-----------------------------------------------------------------****------------------------------------------------------------\n",
      "添加d列：df.loc[:,\"d\"] = [\"one\", \"two\", \"three\", \"four\", \"one\"]\n",
      "    a    b  c      d\n",
      "0  1    2  a    one\n",
      "1  2  111  b    two\n",
      "2  3    6  c  three\n",
      "3  4    8  d   four\n",
      "4  5   10  e    one\n",
      "-----------------------------------------------------------------****------------------------------------------------------------\n",
      "取出d列的值为one,two的值:df[df.d.isin([\"one\", \"two\"])]\n",
      "    a    b  c    d\n",
      "0  1    2  a  one\n",
      "1  2  111  b  two\n",
      "4  5   10  e  one\n",
      "-----------------------------------------------------------------****------------------------------------------------------------\n",
      "取出c列为nan的那一行:df[df.c.isna()]\n",
      "    a    b    c    d\n",
      "1  2  111  NaN  two\n",
      "-----------------------------------------------------------------****------------------------------------------------------------\n",
      "将nan设置为test: df.fillna('test')\n",
      "    a    b     c      d\n",
      "0  1    2     a    one\n",
      "1  2  111  test    two\n",
      "2  3    6     c  three\n",
      "3  4    8     d   four\n",
      "4  5   10     e    one\n",
      "-----------------------------------------------------------------****------------------------------------------------------------\n"
     ]
    }
   ],
   "source": [
    "import numpy as np\n",
    "# 取a列\n",
    "df = pd.DataFrame({\"a\":[1,2,3,4,5], \"b\":[2,4,6,8,10], \"c\":[\"a\", \"b\", \"c\", \"d\", \"e\"]}, index=range(0, 5))\n",
    "print(\"取a列:df['a']\\n\", df[\"a\"])  # df[\"a\"]是Series\n",
    "print(\"-------------\"*5 + \"****\" + \"------------\"*5)# 分割线\n",
    "print(\"取前3行：df[0:3]\\n\", df[0:3])   \n",
    "print(\"-------------\"*5 + \"****\" + \"------------\"*5)# 分割线\n",
    "print('取索引为1、2，  a,b列：df.loc[1:2, [\"a\", \"b\"]]\\n', df.loc[1:2, [\"a\", \"b\"]])\n",
    "print(\"-------------\"*5 + \"****\" + \"------------\"*5)# 分割线\n",
    "print(\"取a列大于3的值：df[df.a>3]\\n\", df[df.a>3])\n",
    "print(\"-------------\"*5 + \"****\" + \"------------\"*5)# 分割线\n",
    "print(\"取行索引为1， 列索引为1(第二列)的值：df.iloc[1, 1]\\n\", df.iloc[1, 1])   # 或者：  df.iat[1, 1]\n",
    "print(\"-------------\"*5 + \"****\" + \"------------\"*5)# 分割线\n",
    "df.iat[1,1] = 111\n",
    "print(\"将行索引为1， 列索引为1(第二列)的值设置为111：df.iat[1,1] = 111\\n\", df)   # \n",
    "print(\"-------------\"*5 + \"****\" + \"------------\"*5)# 分割线\n",
    "df.loc[:,\"d\"] = [\"one\", \"two\", \"three\", \"four\", \"one\"]\n",
    "print('添加d列：df.loc[:,\"d\"] = [\"one\", \"two\", \"three\", \"four\", \"one\"]\\n',df)\n",
    "print(\"-------------\"*5 + \"****\" + \"------------\"*5)# 分割线\n",
    "# isin,isna,fillna\n",
    "print('取出d列的值为one,two的值:df[df.d.isin([\"one\", \"two\"])]\\n', df[df.d.isin([\"one\", \"two\"])])\n",
    "print(\"-------------\"*5 + \"****\" + \"------------\"*5)# 分割线\n",
    "df.iat[1, 2] = np.nan     # 将索引为1，c列的值设置为nan\n",
    "print(\"取出c列为nan的那一行:df[df.c.isna()]\\n\", df[df.c.isna()])    # 取出c列为nan的那一行\n",
    "print(\"-------------\"*5 + \"****\" + \"------------\"*5)# 分割线\n",
    "print(\"将nan设置为test: df.fillna('test')\\n\", df.fillna(\"test\"))\n",
    "# 更多方法参考：http://pandas.pydata.org/pandas-docs/stable/indexing.html， http://pandas.pydata.org/pandas-docs/stable/10min.html\n",
    "print(\"-------------\"*5 + \"****\" + \"------------\"*5)# 分割线"
   ]
  },
  {
   "cell_type": "markdown",
   "metadata": {},
   "source": [
    "##### DataFrame常用方法、函数"
   ]
  },
  {
   "cell_type": "code",
   "execution_count": 7,
   "metadata": {},
   "outputs": [
    {
     "name": "stdout",
     "output_type": "stream",
     "text": [
      "df1:     name  age     sex     hobby\n",
      "0   ben   12    male  swimming\n",
      "1  lily   13  female   reading\n",
      "2  adam   11    male    hiking\n",
      "-----------------------------------------------------------------****------------------------------------------------------------\n",
      "df2:       name  age     sex     hobby\n",
      "0   bobby   14    male   walking\n",
      "1      an   15  female   singing\n",
      "2  mickle   16    male  shopping\n",
      "-----------------------------------------------------------------****------------------------------------------------------------\n",
      "df3:         name  age     sex     hobby\n",
      "0  xiaoming   12    male  cheating\n",
      "1  xiaohong   13  female    eating\n",
      "2  xiaoyong   11    male  sleeping\n",
      "-----------------------------------------------------------------****------------------------------------------------------------\n"
     ]
    }
   ],
   "source": [
    "import pandas as pd\n",
    "# 读excel文件\n",
    "df1 = pd.read_excel(\"data/test1.xlsx\", encoding=\"gbk\", sheet_name=\"Sheet1\")\n",
    "df2 = pd.read_excel(\"data/test1.xlsx\", encoding=\"gbk\", sheet_name=\"Sheet2\")\n",
    "df3 = pd.read_excel(\"data/test2.xlsx\", encoding=\"gbk\", sheet_name=\"Sheet1\")\n",
    "print(\"df1: \", df1)\n",
    "print(\"-------------\"*5 + \"****\" + \"------------\"*5)# 分割线\n",
    "print(\"df2: \", df2)\n",
    "print(\"-------------\"*5 + \"****\" + \"------------\"*5)# 分割线\n",
    "print(\"df3: \", df3)\n",
    "print(\"-------------\"*5 + \"****\" + \"------------\"*5)# 分割线"
   ]
  },
  {
   "cell_type": "code",
   "execution_count": 9,
   "metadata": {},
   "outputs": [
    {
     "name": "stdout",
     "output_type": "stream",
     "text": [
      "df:         name  age     sex     hobby\n",
      "0       ben   12    male  swimming\n",
      "1      lily   13  female   reading\n",
      "2      adam   11    male    hiking\n",
      "3     bobby   14    male   walking\n",
      "4        an   15  female   singing\n",
      "5    mickle   16    male  shopping\n",
      "6  xiaoming   12    male  cheating\n",
      "7  xiaohong   13  female    eating\n",
      "8  xiaoyong   11    male  sleeping\n"
     ]
    }
   ],
   "source": [
    "# 合并文件\n",
    "df = pd.concat([df1, df2, df3], axis=0, ignore_index=True)  # 忽略索引\n",
    "print(\"df: \", df)"
   ]
  },
  {
   "cell_type": "code",
   "execution_count": 11,
   "metadata": {},
   "outputs": [
    {
     "name": "stdout",
     "output_type": "stream",
     "text": [
      "after sort: \n",
      "        name  age     sex     hobby\n",
      "2      adam   11    male    hiking\n",
      "8  xiaoyong   11    male  sleeping\n",
      "0       ben   12    male  swimming\n",
      "6  xiaoming   12    male  cheating\n",
      "1      lily   13  female   reading\n",
      "7  xiaohong   13  female    eating\n",
      "3     bobby   14    male   walking\n",
      "4        an   15  female   singing\n",
      "5    mickle   16    male  shopping\n"
     ]
    }
   ],
   "source": [
    "# 按照age升序排序\n",
    "df.sort_values(by=\"age\", ascending=True, inplace=True)  # inplace参数为True，即将原来的df替换(inplace)成排序后的df\n",
    "print(\"after sort: \\n\", df)"
   ]
  },
  {
   "cell_type": "code",
   "execution_count": 27,
   "metadata": {},
   "outputs": [
    {
     "name": "stdout",
     "output_type": "stream",
     "text": [
      "age_mean_df: \n",
      " sex\n",
      "female    13.666667\n",
      "male      12.666667\n",
      "Name: age, dtype: float64\n",
      "-----------------------------------------------------------------****------------------------------------------------------------\n",
      "first sum: \n",
      " sex\n",
      "female    41\n",
      "male      76\n",
      "Name: age, dtype: int64\n",
      "-----------------------------------------------------------------****------------------------------------------------------------\n",
      "second sum:\n",
      " sex\n",
      "female    41\n",
      "male      76\n",
      "Name: age, dtype: int64\n",
      "-----------------------------------------------------------------****------------------------------------------------------------\n",
      "       name  age     sex     hobby     grade\n",
      "2      adam   11    male    hiking  children\n",
      "8  xiaoyong   11    male  sleeping  children\n",
      "0       ben   12    male  swimming  children\n",
      "6  xiaoming   12    male  cheating  children\n",
      "1      lily   13  female   reading  children\n",
      "7  xiaohong   13  female    eating  children\n",
      "3     bobby   14    male   walking  children\n",
      "4        an   15  female   singing     young\n",
      "5    mickle   16    male  shopping     young\n"
     ]
    }
   ],
   "source": [
    "### groupby 聚合函数 (重点)\n",
    "# groupby的思想： split（按组split） -- > apply(将每一组都apply到函数上)-- >combine(将每一组的结果combine）\n",
    "\n",
    "age_mean_df = df.groupby(by=[\"sex\"])[\"age\"].mean()  # 按性别分组计算年龄的平均值\n",
    "print(\"age_mean_df: \\n\", age_mean_df)\n",
    "print(\"-------------\"*5 + \"****\" + \"------------\"*5)# 分割线\n",
    "# apply函数\n",
    "# 将分组后的结果都应用到sum函数\n",
    "sum_df = df.groupby(by=[\"sex\"])[\"age\"].apply(lambda x: sum(x))\n",
    "print(\"first sum: \\n\", sum_df)\n",
    "print(\"-------------\"*5 + \"****\" + \"------------\"*5)# 分割线\n",
    "# 等价于\n",
    "sum_df = df.groupby(by=[\"sex\"])[\"age\"].sum()\n",
    "print(\"second sum:\\n\", sum_df)\n",
    "print(\"-------------\"*5 + \"****\" + \"------------\"*5)# 分割线\n",
    "\n",
    "\n",
    "# 应用apply函数\n",
    "def get_grade(x):\n",
    "    return \"children\" if x <= 14 else \"young\"  # 大于14岁返回young，小于等于14岁返回children\n",
    "\n",
    "df[\"grade\"] = df[\"age\"].apply(get_grade)\n",
    "print(df)\n",
    "\n",
    "# 参考：http://pandas.pydata.org/pandas-docs/stable/generated/pandas.DataFrame.groupby.html"
   ]
  },
  {
   "cell_type": "code",
   "execution_count": null,
   "metadata": {},
   "outputs": [],
   "source": []
  }
 ],
 "metadata": {
  "anaconda-cloud": {},
  "kernelspec": {
   "display_name": "Python 3",
   "language": "python",
   "name": "python3"
  },
  "language_info": {
   "codemirror_mode": {
    "name": "ipython",
    "version": 3
   },
   "file_extension": ".py",
   "mimetype": "text/x-python",
   "name": "python",
   "nbconvert_exporter": "python",
   "pygments_lexer": "ipython3",
   "version": "3.6.4"
  }
 },
 "nbformat": 4,
 "nbformat_minor": 1
}
